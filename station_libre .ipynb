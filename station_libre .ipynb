{
 "cells": [
  {
   "cell_type": "code",
   "execution_count": 6,
   "id": "78af30c2",
   "metadata": {},
   "outputs": [],
   "source": [
    "import pandas as pd \n",
    "import numpy as np "
   ]
  },
  {
   "cell_type": "code",
   "execution_count": 7,
   "id": "6deeed0b",
   "metadata": {},
   "outputs": [
    {
     "data": {
      "text/html": [
       "<div>\n",
       "<style scoped>\n",
       "    .dataframe tbody tr th:only-of-type {\n",
       "        vertical-align: middle;\n",
       "    }\n",
       "\n",
       "    .dataframe tbody tr th {\n",
       "        vertical-align: top;\n",
       "    }\n",
       "\n",
       "    .dataframe thead th {\n",
       "        text-align: right;\n",
       "    }\n",
       "</style>\n",
       "<table border=\"1\" class=\"dataframe\">\n",
       "  <thead>\n",
       "    <tr style=\"text-align: right;\">\n",
       "      <th></th>\n",
       "      <th>station</th>\n",
       "      <th>serie</th>\n",
       "      <th>point_visé</th>\n",
       "      <th>cg</th>\n",
       "      <th>rcg</th>\n",
       "      <th>cd</th>\n",
       "      <th>rcd</th>\n",
       "      <th>moyenne</th>\n",
       "      <th>distancecg</th>\n",
       "      <th>distancecd</th>\n",
       "      <th>distancemoy</th>\n",
       "      <th>Avcg</th>\n",
       "      <th>Avcd</th>\n",
       "      <th>zocd</th>\n",
       "      <th>Av</th>\n",
       "    </tr>\n",
       "  </thead>\n",
       "  <tbody>\n",
       "    <tr>\n",
       "      <th>0</th>\n",
       "      <td>NaN</td>\n",
       "      <td>NaN</td>\n",
       "      <td>topo12</td>\n",
       "      <td>0.0000</td>\n",
       "      <td>NaN</td>\n",
       "      <td>200.0000</td>\n",
       "      <td>NaN</td>\n",
       "      <td>NaN</td>\n",
       "      <td>116.6046</td>\n",
       "      <td>116.5988</td>\n",
       "      <td>NaN</td>\n",
       "      <td>100.5440</td>\n",
       "      <td>299.4784</td>\n",
       "      <td>NaN</td>\n",
       "      <td>NaN</td>\n",
       "    </tr>\n",
       "    <tr>\n",
       "      <th>1</th>\n",
       "      <td>M1</td>\n",
       "      <td>1.0</td>\n",
       "      <td>topo3</td>\n",
       "      <td>151.4514</td>\n",
       "      <td>NaN</td>\n",
       "      <td>351.4588</td>\n",
       "      <td>NaN</td>\n",
       "      <td>NaN</td>\n",
       "      <td>93.7784</td>\n",
       "      <td>93.7650</td>\n",
       "      <td>NaN</td>\n",
       "      <td>99.1892</td>\n",
       "      <td>300.8976</td>\n",
       "      <td>NaN</td>\n",
       "      <td>NaN</td>\n",
       "    </tr>\n",
       "    <tr>\n",
       "      <th>2</th>\n",
       "      <td>NaN</td>\n",
       "      <td>NaN</td>\n",
       "      <td>topo12</td>\n",
       "      <td>0.0020</td>\n",
       "      <td>NaN</td>\n",
       "      <td>200.0062</td>\n",
       "      <td>NaN</td>\n",
       "      <td>NaN</td>\n",
       "      <td>116.6098</td>\n",
       "      <td>116.6076</td>\n",
       "      <td>NaN</td>\n",
       "      <td>100.6144</td>\n",
       "      <td>299.4772</td>\n",
       "      <td>NaN</td>\n",
       "      <td>NaN</td>\n",
       "    </tr>\n",
       "    <tr>\n",
       "      <th>3</th>\n",
       "      <td>NaN</td>\n",
       "      <td>NaN</td>\n",
       "      <td>topo12</td>\n",
       "      <td>50.0000</td>\n",
       "      <td>NaN</td>\n",
       "      <td>250.0000</td>\n",
       "      <td>NaN</td>\n",
       "      <td>NaN</td>\n",
       "      <td>116.6078</td>\n",
       "      <td>116.6078</td>\n",
       "      <td>NaN</td>\n",
       "      <td>100.6104</td>\n",
       "      <td>299.4772</td>\n",
       "      <td>NaN</td>\n",
       "      <td>NaN</td>\n",
       "    </tr>\n",
       "    <tr>\n",
       "      <th>4</th>\n",
       "      <td>M1</td>\n",
       "      <td>2.0</td>\n",
       "      <td>topo3</td>\n",
       "      <td>201.4480</td>\n",
       "      <td>NaN</td>\n",
       "      <td>1.4454</td>\n",
       "      <td>NaN</td>\n",
       "      <td>NaN</td>\n",
       "      <td>93.7824</td>\n",
       "      <td>93.7706</td>\n",
       "      <td>NaN</td>\n",
       "      <td>99.1926</td>\n",
       "      <td>300.8940</td>\n",
       "      <td>NaN</td>\n",
       "      <td>NaN</td>\n",
       "    </tr>\n",
       "    <tr>\n",
       "      <th>5</th>\n",
       "      <td>NaN</td>\n",
       "      <td>NaN</td>\n",
       "      <td>topo12</td>\n",
       "      <td>50.0010</td>\n",
       "      <td>NaN</td>\n",
       "      <td>250.0016</td>\n",
       "      <td>NaN</td>\n",
       "      <td>NaN</td>\n",
       "      <td>116.6404</td>\n",
       "      <td>116.6032</td>\n",
       "      <td>NaN</td>\n",
       "      <td>100.6164</td>\n",
       "      <td>299.4696</td>\n",
       "      <td>NaN</td>\n",
       "      <td>NaN</td>\n",
       "    </tr>\n",
       "  </tbody>\n",
       "</table>\n",
       "</div>"
      ],
      "text/plain": [
       "  station  serie point_visé        cg  rcg        cd  rcd  moyenne  \\\n",
       "0     NaN    NaN     topo12    0.0000  NaN  200.0000  NaN      NaN   \n",
       "1     M1     1.0      topo3  151.4514  NaN  351.4588  NaN      NaN   \n",
       "2     NaN    NaN     topo12    0.0020  NaN  200.0062  NaN      NaN   \n",
       "3     NaN    NaN     topo12   50.0000  NaN  250.0000  NaN      NaN   \n",
       "4      M1    2.0      topo3  201.4480  NaN    1.4454  NaN      NaN   \n",
       "5     NaN    NaN     topo12   50.0010  NaN  250.0016  NaN      NaN   \n",
       "\n",
       "   distancecg  distancecd  distancemoy      Avcg      Avcd  zocd  Av  \n",
       "0    116.6046    116.5988          NaN  100.5440  299.4784   NaN NaN  \n",
       "1     93.7784     93.7650          NaN   99.1892  300.8976   NaN NaN  \n",
       "2    116.6098    116.6076          NaN  100.6144  299.4772   NaN NaN  \n",
       "3    116.6078    116.6078          NaN  100.6104  299.4772   NaN NaN  \n",
       "4     93.7824     93.7706          NaN   99.1926  300.8940   NaN NaN  \n",
       "5    116.6404    116.6032          NaN  100.6164  299.4696   NaN NaN  "
      ]
     },
     "execution_count": 7,
     "metadata": {},
     "output_type": "execute_result"
    }
   ],
   "source": [
    "file = pd.read_excel(r'groupe5_stationlibre.xlsx' )\n",
    "file"
   ]
  },
  {
   "cell_type": "code",
   "execution_count": 8,
   "id": "5117bf24",
   "metadata": {},
   "outputs": [],
   "source": [
    "import numpy as np  \n",
    "def rad2grad(angle) : \n",
    "    return angle *  200 / (np.pi)\n",
    "def grad2rad(angle): \n",
    "    return angle * (np.pi/200) \n",
    "def cosg(angle) : \n",
    "    return np.cos(grad2rad(angle))\n",
    "def sing(angle): \n",
    "    return np.sin(grad2rad(angle))\n",
    "    \n",
    "def roundd(angle) : \n",
    "    if angle > 400 or angle < 0 : \n",
    "        angle = angle % 400  \n",
    "    return round(angle , 4)  \n",
    "def gisement(x1,y1,x2,y2) -> float  : \n",
    "    try : \n",
    "        dx = x2 - x1\n",
    "        dy = y2 - y1 \n",
    "        if dy == 0 : \n",
    "            if dx > 0 : \n",
    "                gisement = 100 \n",
    "            elif dx > 0 : \n",
    "                gisement = 300 \n",
    "        G = rad2grad(np.arctan(dx / dy ))\n",
    "        if dx == 0  : \n",
    "            if dy > 0 : \n",
    "                gisement = 0 \n",
    "            if dy < 0 : \n",
    "                gisement = 200 \n",
    "        else : \n",
    "            R = np.abs(dx) /dx \n",
    "            S = 1 + np.abs(dy) / dy \n",
    "            gisement = G + 200 - 100 * R * S \n",
    "        return roundd(gisement) \n",
    "    except ZeroDivisionError : \n",
    "        return \"invalid_input\"    "
   ]
  },
  {
   "cell_type": "code",
   "execution_count": 9,
   "id": "8c39b4f6",
   "metadata": {},
   "outputs": [
    {
     "data": {
      "text/html": [
       "<div>\n",
       "<style scoped>\n",
       "    .dataframe tbody tr th:only-of-type {\n",
       "        vertical-align: middle;\n",
       "    }\n",
       "\n",
       "    .dataframe tbody tr th {\n",
       "        vertical-align: top;\n",
       "    }\n",
       "\n",
       "    .dataframe thead th {\n",
       "        text-align: right;\n",
       "    }\n",
       "</style>\n",
       "<table border=\"1\" class=\"dataframe\">\n",
       "  <thead>\n",
       "    <tr style=\"text-align: right;\">\n",
       "      <th></th>\n",
       "      <th>station</th>\n",
       "      <th>serie</th>\n",
       "      <th>point_visé</th>\n",
       "      <th>cg</th>\n",
       "      <th>rcg</th>\n",
       "      <th>cd</th>\n",
       "      <th>rcd</th>\n",
       "      <th>moyenne</th>\n",
       "      <th>distancecg</th>\n",
       "      <th>distancecd</th>\n",
       "      <th>distancemoy</th>\n",
       "      <th>Avcg</th>\n",
       "      <th>Avcd</th>\n",
       "      <th>zocd</th>\n",
       "      <th>Av</th>\n",
       "    </tr>\n",
       "  </thead>\n",
       "  <tbody>\n",
       "    <tr>\n",
       "      <th>0</th>\n",
       "      <td>NaN</td>\n",
       "      <td>NaN</td>\n",
       "      <td>topo12</td>\n",
       "      <td>0.0000</td>\n",
       "      <td>0.0000</td>\n",
       "      <td>200.0000</td>\n",
       "      <td>0.0000</td>\n",
       "      <td>0.00000</td>\n",
       "      <td>116.6046</td>\n",
       "      <td>116.5988</td>\n",
       "      <td>NaN</td>\n",
       "      <td>100.5440</td>\n",
       "      <td>299.4784</td>\n",
       "      <td>NaN</td>\n",
       "      <td>NaN</td>\n",
       "    </tr>\n",
       "    <tr>\n",
       "      <th>1</th>\n",
       "      <td>M1</td>\n",
       "      <td>1.0</td>\n",
       "      <td>topo3</td>\n",
       "      <td>151.4514</td>\n",
       "      <td>151.4504</td>\n",
       "      <td>351.4588</td>\n",
       "      <td>151.4557</td>\n",
       "      <td>151.45305</td>\n",
       "      <td>93.7784</td>\n",
       "      <td>93.7650</td>\n",
       "      <td>NaN</td>\n",
       "      <td>99.1892</td>\n",
       "      <td>300.8976</td>\n",
       "      <td>NaN</td>\n",
       "      <td>NaN</td>\n",
       "    </tr>\n",
       "    <tr>\n",
       "      <th>2</th>\n",
       "      <td>NaN</td>\n",
       "      <td>NaN</td>\n",
       "      <td>topo12</td>\n",
       "      <td>0.0020</td>\n",
       "      <td>0.0000</td>\n",
       "      <td>200.0062</td>\n",
       "      <td>0.0000</td>\n",
       "      <td>0.00000</td>\n",
       "      <td>116.6098</td>\n",
       "      <td>116.6076</td>\n",
       "      <td>NaN</td>\n",
       "      <td>100.6144</td>\n",
       "      <td>299.4772</td>\n",
       "      <td>NaN</td>\n",
       "      <td>NaN</td>\n",
       "    </tr>\n",
       "    <tr>\n",
       "      <th>3</th>\n",
       "      <td>NaN</td>\n",
       "      <td>NaN</td>\n",
       "      <td>topo12</td>\n",
       "      <td>50.0000</td>\n",
       "      <td>0.0000</td>\n",
       "      <td>250.0000</td>\n",
       "      <td>0.0000</td>\n",
       "      <td>0.00000</td>\n",
       "      <td>116.6078</td>\n",
       "      <td>116.6078</td>\n",
       "      <td>NaN</td>\n",
       "      <td>100.6104</td>\n",
       "      <td>299.4772</td>\n",
       "      <td>NaN</td>\n",
       "      <td>NaN</td>\n",
       "    </tr>\n",
       "    <tr>\n",
       "      <th>4</th>\n",
       "      <td>M1</td>\n",
       "      <td>2.0</td>\n",
       "      <td>topo3</td>\n",
       "      <td>201.4480</td>\n",
       "      <td>151.4475</td>\n",
       "      <td>1.4454</td>\n",
       "      <td>151.4446</td>\n",
       "      <td>151.44605</td>\n",
       "      <td>93.7824</td>\n",
       "      <td>93.7706</td>\n",
       "      <td>NaN</td>\n",
       "      <td>99.1926</td>\n",
       "      <td>300.8940</td>\n",
       "      <td>NaN</td>\n",
       "      <td>NaN</td>\n",
       "    </tr>\n",
       "    <tr>\n",
       "      <th>5</th>\n",
       "      <td>NaN</td>\n",
       "      <td>NaN</td>\n",
       "      <td>topo12</td>\n",
       "      <td>50.0010</td>\n",
       "      <td>0.0000</td>\n",
       "      <td>250.0016</td>\n",
       "      <td>0.0000</td>\n",
       "      <td>0.00000</td>\n",
       "      <td>116.6404</td>\n",
       "      <td>116.6032</td>\n",
       "      <td>NaN</td>\n",
       "      <td>100.6164</td>\n",
       "      <td>299.4696</td>\n",
       "      <td>NaN</td>\n",
       "      <td>NaN</td>\n",
       "    </tr>\n",
       "  </tbody>\n",
       "</table>\n",
       "</div>"
      ],
      "text/plain": [
       "  station  serie point_visé        cg       rcg        cd       rcd  \\\n",
       "0     NaN    NaN     topo12    0.0000    0.0000  200.0000    0.0000   \n",
       "1     M1     1.0      topo3  151.4514  151.4504  351.4588  151.4557   \n",
       "2     NaN    NaN     topo12    0.0020    0.0000  200.0062    0.0000   \n",
       "3     NaN    NaN     topo12   50.0000    0.0000  250.0000    0.0000   \n",
       "4      M1    2.0      topo3  201.4480  151.4475    1.4454  151.4446   \n",
       "5     NaN    NaN     topo12   50.0010    0.0000  250.0016    0.0000   \n",
       "\n",
       "     moyenne  distancecg  distancecd  distancemoy      Avcg      Avcd  zocd  \\\n",
       "0    0.00000    116.6046    116.5988          NaN  100.5440  299.4784   NaN   \n",
       "1  151.45305     93.7784     93.7650          NaN   99.1892  300.8976   NaN   \n",
       "2    0.00000    116.6098    116.6076          NaN  100.6144  299.4772   NaN   \n",
       "3    0.00000    116.6078    116.6078          NaN  100.6104  299.4772   NaN   \n",
       "4  151.44605     93.7824     93.7706          NaN   99.1926  300.8940   NaN   \n",
       "5    0.00000    116.6404    116.6032          NaN  100.6164  299.4696   NaN   \n",
       "\n",
       "   Av  \n",
       "0 NaN  \n",
       "1 NaN  \n",
       "2 NaN  \n",
       "3 NaN  \n",
       "4 NaN  \n",
       "5 NaN  "
      ]
     },
     "execution_count": 9,
     "metadata": {},
     "output_type": "execute_result"
    }
   ],
   "source": [
    "angles = np.zeros(int(len(file.rcg) / 3 ))\n",
    "rcgg = np.zeros(len(file.rcg))\n",
    "rcdd = np.zeros(len(file.rcg))\n",
    "cd = file.cd\n",
    "cg = file.cg\n",
    "moyenne = np.zeros(len(file.rcg)) \n",
    "n = len(file.rcg) \n",
    "for i in range(1 , n  , 3 ) : \n",
    "    p = file.cg[i+1] - file.cg[i-1]\n",
    "    if p> 399  :\n",
    "        rcgg[i] = roundd(file.cg[i] - (file.cg[i+1]+400+file.cg[i-1])/2)\n",
    "    else: \n",
    "        rcgg[i] =  roundd(file.cg[i] - (file.cg[i+1] +file.cg[i-1])/2)\n",
    "for i in range(1 , n  , 3 ) : \n",
    "    p = file.cd[i+1] - file.cd[i-1]\n",
    "    if p> 399  :\n",
    "        rcdd[i] =  roundd(file.cd[i] - (file.cd[i+1]+400+file.cd[i-1])/2)\n",
    "    else: \n",
    "        rcdd[i] =  roundd(file.cd[i] - (file.cd[i+1] +file.cd[i-1])/2)\n",
    "    moyenne[i] = ((rcdd[i] + rcgg[i]) / 2 )  \n",
    "    angles[i//3] = moyenne[i]\n",
    "file.rcg = rcgg \n",
    "file.rcd = rcdd \n",
    "file.moyenne = moyenne\n",
    "file"
   ]
  },
  {
   "cell_type": "code",
   "execution_count": 10,
   "id": "1f617da5",
   "metadata": {},
   "outputs": [
    {
     "name": "stdout",
     "output_type": "stream",
     "text": [
      "[151.44955]\n"
     ]
    }
   ],
   "source": [
    "n = 2  # nombre de serie par mesure rops\n",
    "angles_finales = np.zeros(int(len(angles) / n )) # nombre de serie par mesure  \n",
    "for i in range(0 , len(angles) , n )  : \n",
    "    somme = 0 \n",
    "    for j in range(i , i + n ) : \n",
    "        somme  = somme + angles[j]\n",
    "    \n",
    "    angles_finales[i//n] = somme / n \n",
    "print(angles_finales)\n"
   ]
  },
  {
   "cell_type": "code",
   "execution_count": 17,
   "id": "fdf176bb",
   "metadata": {},
   "outputs": [
    {
     "data": {
      "text/plain": [
       "0    116.6046\n",
       "1     93.7784\n",
       "2    116.6098\n",
       "3    116.6078\n",
       "4     93.7824\n",
       "5    116.6404\n",
       "Name: distancecg, dtype: float64"
      ]
     },
     "execution_count": 17,
     "metadata": {},
     "output_type": "execute_result"
    }
   ],
   "source": [
    "file.loc[: ,\"distancecg\"]"
   ]
  },
  {
   "cell_type": "code",
   "execution_count": 18,
   "id": "e95125e6",
   "metadata": {},
   "outputs": [
    {
     "data": {
      "text/html": [
       "<div>\n",
       "<style scoped>\n",
       "    .dataframe tbody tr th:only-of-type {\n",
       "        vertical-align: middle;\n",
       "    }\n",
       "\n",
       "    .dataframe tbody tr th {\n",
       "        vertical-align: top;\n",
       "    }\n",
       "\n",
       "    .dataframe thead th {\n",
       "        text-align: right;\n",
       "    }\n",
       "</style>\n",
       "<table border=\"1\" class=\"dataframe\">\n",
       "  <thead>\n",
       "    <tr style=\"text-align: right;\">\n",
       "      <th></th>\n",
       "      <th>station</th>\n",
       "      <th>serie</th>\n",
       "      <th>point_visé</th>\n",
       "      <th>cg</th>\n",
       "      <th>rcg</th>\n",
       "      <th>cd</th>\n",
       "      <th>rcd</th>\n",
       "      <th>moyenne</th>\n",
       "      <th>distancecg</th>\n",
       "      <th>distancecd</th>\n",
       "      <th>distancemoy</th>\n",
       "      <th>Avcg</th>\n",
       "      <th>Avcd</th>\n",
       "      <th>zocd</th>\n",
       "      <th>Av</th>\n",
       "    </tr>\n",
       "  </thead>\n",
       "  <tbody>\n",
       "    <tr>\n",
       "      <th>0</th>\n",
       "      <td>NaN</td>\n",
       "      <td>NaN</td>\n",
       "      <td>topo12</td>\n",
       "      <td>0.0000</td>\n",
       "      <td>0.0000</td>\n",
       "      <td>200.0000</td>\n",
       "      <td>0.0000</td>\n",
       "      <td>0.00000</td>\n",
       "      <td>116.6046</td>\n",
       "      <td>116.5988</td>\n",
       "      <td>116.6017</td>\n",
       "      <td>100.5440</td>\n",
       "      <td>299.4784</td>\n",
       "      <td>NaN</td>\n",
       "      <td>NaN</td>\n",
       "    </tr>\n",
       "    <tr>\n",
       "      <th>1</th>\n",
       "      <td>M1</td>\n",
       "      <td>1.0</td>\n",
       "      <td>topo3</td>\n",
       "      <td>151.4514</td>\n",
       "      <td>151.4504</td>\n",
       "      <td>351.4588</td>\n",
       "      <td>151.4557</td>\n",
       "      <td>151.45305</td>\n",
       "      <td>93.7784</td>\n",
       "      <td>93.7650</td>\n",
       "      <td>93.7717</td>\n",
       "      <td>99.1892</td>\n",
       "      <td>300.8976</td>\n",
       "      <td>NaN</td>\n",
       "      <td>NaN</td>\n",
       "    </tr>\n",
       "    <tr>\n",
       "      <th>2</th>\n",
       "      <td>NaN</td>\n",
       "      <td>NaN</td>\n",
       "      <td>topo12</td>\n",
       "      <td>0.0020</td>\n",
       "      <td>0.0000</td>\n",
       "      <td>200.0062</td>\n",
       "      <td>0.0000</td>\n",
       "      <td>0.00000</td>\n",
       "      <td>116.6098</td>\n",
       "      <td>116.6076</td>\n",
       "      <td>116.6087</td>\n",
       "      <td>100.6144</td>\n",
       "      <td>299.4772</td>\n",
       "      <td>NaN</td>\n",
       "      <td>NaN</td>\n",
       "    </tr>\n",
       "    <tr>\n",
       "      <th>3</th>\n",
       "      <td>NaN</td>\n",
       "      <td>NaN</td>\n",
       "      <td>topo12</td>\n",
       "      <td>50.0000</td>\n",
       "      <td>0.0000</td>\n",
       "      <td>250.0000</td>\n",
       "      <td>0.0000</td>\n",
       "      <td>0.00000</td>\n",
       "      <td>116.6078</td>\n",
       "      <td>116.6078</td>\n",
       "      <td>116.6078</td>\n",
       "      <td>100.6104</td>\n",
       "      <td>299.4772</td>\n",
       "      <td>NaN</td>\n",
       "      <td>NaN</td>\n",
       "    </tr>\n",
       "    <tr>\n",
       "      <th>4</th>\n",
       "      <td>M1</td>\n",
       "      <td>2.0</td>\n",
       "      <td>topo3</td>\n",
       "      <td>201.4480</td>\n",
       "      <td>151.4475</td>\n",
       "      <td>1.4454</td>\n",
       "      <td>151.4446</td>\n",
       "      <td>151.44605</td>\n",
       "      <td>93.7824</td>\n",
       "      <td>93.7706</td>\n",
       "      <td>93.7765</td>\n",
       "      <td>99.1926</td>\n",
       "      <td>300.8940</td>\n",
       "      <td>NaN</td>\n",
       "      <td>NaN</td>\n",
       "    </tr>\n",
       "    <tr>\n",
       "      <th>5</th>\n",
       "      <td>NaN</td>\n",
       "      <td>NaN</td>\n",
       "      <td>topo12</td>\n",
       "      <td>50.0010</td>\n",
       "      <td>0.0000</td>\n",
       "      <td>250.0016</td>\n",
       "      <td>0.0000</td>\n",
       "      <td>0.00000</td>\n",
       "      <td>116.6404</td>\n",
       "      <td>116.6032</td>\n",
       "      <td>116.6218</td>\n",
       "      <td>100.6164</td>\n",
       "      <td>299.4696</td>\n",
       "      <td>NaN</td>\n",
       "      <td>NaN</td>\n",
       "    </tr>\n",
       "  </tbody>\n",
       "</table>\n",
       "</div>"
      ],
      "text/plain": [
       "  station  serie point_visé        cg       rcg        cd       rcd  \\\n",
       "0     NaN    NaN     topo12    0.0000    0.0000  200.0000    0.0000   \n",
       "1     M1     1.0      topo3  151.4514  151.4504  351.4588  151.4557   \n",
       "2     NaN    NaN     topo12    0.0020    0.0000  200.0062    0.0000   \n",
       "3     NaN    NaN     topo12   50.0000    0.0000  250.0000    0.0000   \n",
       "4      M1    2.0      topo3  201.4480  151.4475    1.4454  151.4446   \n",
       "5     NaN    NaN     topo12   50.0010    0.0000  250.0016    0.0000   \n",
       "\n",
       "     moyenne  distancecg  distancecd  distancemoy      Avcg      Avcd  zocd  \\\n",
       "0    0.00000    116.6046    116.5988     116.6017  100.5440  299.4784   NaN   \n",
       "1  151.45305     93.7784     93.7650      93.7717   99.1892  300.8976   NaN   \n",
       "2    0.00000    116.6098    116.6076     116.6087  100.6144  299.4772   NaN   \n",
       "3    0.00000    116.6078    116.6078     116.6078  100.6104  299.4772   NaN   \n",
       "4  151.44605     93.7824     93.7706      93.7765   99.1926  300.8940   NaN   \n",
       "5    0.00000    116.6404    116.6032     116.6218  100.6164  299.4696   NaN   \n",
       "\n",
       "   Av  \n",
       "0 NaN  \n",
       "1 NaN  \n",
       "2 NaN  \n",
       "3 NaN  \n",
       "4 NaN  \n",
       "5 NaN  "
      ]
     },
     "execution_count": 18,
     "metadata": {},
     "output_type": "execute_result"
    }
   ],
   "source": [
    "#pour l\"extraction des distances \n",
    "lenangles_finales = len(angles_finales)\n",
    "lendistances_finales = lenangles_finales + 1 \n",
    "distances_finales = np.zeros(lendistances_finales)\n",
    "file.loc[: , \"distancemoy\"]  = (file.loc[: ,\"distancecg\"]  + file.loc[: ,\"distancecd\"]) / 2 \n",
    "file\n"
   ]
  },
  {
   "cell_type": "code",
   "execution_count": 19,
   "id": "51b7d7c8",
   "metadata": {},
   "outputs": [],
   "source": [
    "distance = file[\"distancemoy\"]\n",
    "p = len(file.rcg)\n",
    "somme1 = 0 \n",
    "somme2 = 0 \n",
    "c = 0 \n",
    "for i in range(1 , len(distance) , 3) : \n",
    "    somme1 = somme1 + distance[i]\n",
    "    c = c + 1\n",
    "for k in range(0 , len(distance)) : \n",
    "    somme2 = somme2 + distance[k]\n",
    " "
   ]
  },
  {
   "cell_type": "code",
   "execution_count": 20,
   "id": "ce82d0b3",
   "metadata": {},
   "outputs": [
    {
     "data": {
      "text/plain": [
       "array([116.61,  93.77])"
      ]
     },
     "execution_count": 20,
     "metadata": {},
     "output_type": "execute_result"
    }
   ],
   "source": [
    "d = np.zeros(2)\n",
    "d[0] = round((somme2 - somme1) / (p - c),2)\n",
    "d[1] = round(somme1 / c , 2)\n",
    "d"
   ]
  },
  {
   "cell_type": "code",
   "execution_count": 21,
   "id": "5b2dfb13",
   "metadata": {},
   "outputs": [],
   "source": [
    "#ajouter la correction \n",
    "hm = 44.95\n",
    "rt  = 6400 * 10**(3)\n",
    "k = 0.36\n",
    "def distancecorr(d) : \n",
    "    return (1 - k / 1000) * (1 - hm/rt) * d"
   ]
  },
  {
   "cell_type": "code",
   "execution_count": 22,
   "id": "e9f75a0e",
   "metadata": {},
   "outputs": [
    {
     "name": "stdout",
     "output_type": "stream",
     "text": [
      "116.61\n",
      "93.77\n"
     ]
    }
   ],
   "source": [
    "for i in range(len(d)) : \n",
    "    print(d[i])"
   ]
  },
  {
   "cell_type": "code",
   "execution_count": 23,
   "id": "b51a8855",
   "metadata": {},
   "outputs": [
    {
     "data": {
      "text/plain": [
       "0    116.6017\n",
       "1     93.7717\n",
       "2    116.6087\n",
       "3    116.6078\n",
       "4     93.7765\n",
       "5    116.6218\n",
       "Name: distancemoy, dtype: float64"
      ]
     },
     "execution_count": 23,
     "metadata": {},
     "output_type": "execute_result"
    }
   ],
   "source": [
    "dreduites = np.zeros(2)\n",
    "for i in range(len(d)) : \n",
    "    dreduites[i] = distancecorr(d[i])\n",
    "dreduites\n",
    "distance"
   ]
  },
  {
   "cell_type": "markdown",
   "id": "fffdbb9e",
   "metadata": {},
   "source": [
    "## elaboration de la station libre "
   ]
  },
  {
   "cell_type": "code",
   "execution_count": 24,
   "id": "8ccf3b7f",
   "metadata": {},
   "outputs": [
    {
     "data": {
      "text/plain": [
       "151.4531"
      ]
     },
     "execution_count": 24,
     "metadata": {},
     "output_type": "execute_result"
    }
   ],
   "source": [
    "class point : \n",
    "    def __init__(self,nom,X ,Y , Z ): \n",
    "        self.nom = nom \n",
    "        self.X = X \n",
    "        self.Y = Y \n",
    "        self.Z = Z \n",
    "    def __repr__(self) : \n",
    "        return \"le point :%s a pour coordonees  x : %f , y :  %f  z : %f\" % (self.nom  , self.X , self.Y , self.Z)\n",
    "A = point(file[\"point_visé\"][0],364229.335 , 376274.384, 49.479)  \n",
    "B = point(file[\"point_visé\"][1],364417.630,376222.540,51.726)  \n",
    "lambdaa =  roundd(angles[0])\n",
    "lambdaa\n"
   ]
  },
  {
   "cell_type": "code",
   "execution_count": 25,
   "id": "0a92faa1",
   "metadata": {},
   "outputs": [
    {
     "data": {
      "text/plain": [
       "93.73558444935719"
      ]
     },
     "execution_count": 25,
     "metadata": {},
     "output_type": "execute_result"
    }
   ],
   "source": [
    "AM = dreduites[0]\n",
    "BM = dreduites[1]\n",
    "AB = round(np.linalg.norm(np.array([A.X-B.X , A.Y-B.Y])) , 2) \n",
    "BM"
   ]
  },
  {
   "cell_type": "code",
   "execution_count": 26,
   "id": "efd7ac2d",
   "metadata": {},
   "outputs": [
    {
     "data": {
      "text/plain": [
       "21.5141"
      ]
     },
     "execution_count": 26,
     "metadata": {},
     "output_type": "execute_result"
    }
   ],
   "source": [
    "alpha = roundd(rad2grad(np.arcsin((BM/AB)*np.sin(grad2rad(lambdaa)))))\n",
    "beta = roundd(rad2grad(np.arcsin((AM/AB)*np.sin(grad2rad(lambdaa)))))\n",
    "alpha\n",
    "alpha"
   ]
  },
  {
   "cell_type": "code",
   "execution_count": 27,
   "id": "c1a7f255",
   "metadata": {},
   "outputs": [
    {
     "data": {
      "text/plain": [
       "27.0551"
      ]
     },
     "execution_count": 27,
     "metadata": {},
     "output_type": "execute_result"
    }
   ],
   "source": [
    "beta"
   ]
  },
  {
   "cell_type": "code",
   "execution_count": 28,
   "id": "c8af1df4",
   "metadata": {},
   "outputs": [
    {
     "data": {
      "text/plain": [
       "200.0223"
      ]
     },
     "execution_count": 28,
     "metadata": {},
     "output_type": "execute_result"
    }
   ],
   "source": [
    "c = alpha + beta + lambdaa\n",
    "c\n"
   ]
  },
  {
   "cell_type": "code",
   "execution_count": 34,
   "id": "22382b33",
   "metadata": {},
   "outputs": [
    {
     "data": {
      "text/plain": [
       "317.1045"
      ]
     },
     "execution_count": 34,
     "metadata": {},
     "output_type": "execute_result"
    }
   ],
   "source": [
    "Gab = gisement(A.X , A.Y , B.X , B.Y )\n",
    "Gba = gisement(B.X,B.Y,A.X,A.Y)\n",
    "Gam = roundd(Gab + alpha)\n",
    "Gbm = roundd(Gba - beta)\n"
   ]
  },
  {
   "cell_type": "markdown",
   "id": "8d0a7e02",
   "metadata": {},
   "source": [
    "## premiere determination "
   ]
  },
  {
   "cell_type": "code",
   "execution_count": 35,
   "id": "3620cec2",
   "metadata": {},
   "outputs": [
    {
     "name": "stdout",
     "output_type": "stream",
     "text": [
      "364325.1\n",
      "376207.93\n"
     ]
    }
   ],
   "source": [
    "XM1 =  A.X + AM*sing(Gam)\n",
    "YM1 =  A.Y + AM*cosg(Gam)\n",
    "M1 = point(\"m1\" , XM1 , YM1 , 0)\n",
    "print(round(M1.X , 2))\n",
    "print(round(M1.Y , 2 ))"
   ]
  },
  {
   "cell_type": "code",
   "execution_count": 36,
   "id": "69a80cad",
   "metadata": {},
   "outputs": [
    {
     "name": "stdout",
     "output_type": "stream",
     "text": [
      "364325.04\n",
      "376207.95\n"
     ]
    }
   ],
   "source": [
    "XM2 = B.X + BM*sing(Gbm)\n",
    "YM2 = B.Y + BM*cosg(Gbm)\n",
    "M2 = point(\"m2\" ,XM2 , YM2 , 0 )\n",
    "print(round(M2.X , 2))\n",
    "print(round(M2.Y , 2 ))"
   ]
  },
  {
   "cell_type": "code",
   "execution_count": 32,
   "id": "dc2411de",
   "metadata": {},
   "outputs": [
    {
     "name": "stdout",
     "output_type": "stream",
     "text": [
      "XM :  364325.1042676454\n",
      "YM :  376207.9298061149\n",
      "########################\n",
      "XM :  364325.0371055478\n",
      "YM :  376207.9483692129\n"
     ]
    }
   ],
   "source": [
    "print('XM : ' , M1.X )\n",
    "print('YM : ' , M1.Y)\n",
    "print(\"########################\")\n",
    "print('XM : ', M2.X )\n",
    "print(\"YM : \" , M2.Y)\n"
   ]
  },
  {
   "cell_type": "code",
   "execution_count": 94,
   "id": "874cf007",
   "metadata": {},
   "outputs": [
    {
     "name": "stdout",
     "output_type": "stream",
     "text": [
      "364325.07   376207.94\n"
     ]
    }
   ],
   "source": [
    "print( round((M1.X + M2.X) / 2,2)  , ' ' ,  round((M1.Y + M2.Y )/2 , 2))"
   ]
  },
  {
   "cell_type": "markdown",
   "id": "0f8b235c",
   "metadata": {},
   "source": [
    "## partie altimetrie "
   ]
  },
  {
   "cell_type": "code",
   "execution_count": 26,
   "id": "bf8b1001",
   "metadata": {},
   "outputs": [],
   "source": [
    "file.loc[: , \"zocd\"]  = (file.loc[: ,\"Avcg\"]  + file.loc[: ,\"Avcd\"] - 400) /2\n"
   ]
  },
  {
   "cell_type": "code",
   "execution_count": 27,
   "id": "192efe18",
   "metadata": {},
   "outputs": [
    {
     "data": {
      "text/plain": [
       "0    0.0112\n",
       "1    0.0434\n",
       "2    0.0458\n",
       "3    0.0438\n",
       "4    0.0433\n",
       "5    0.0430\n",
       "Name: zocd, dtype: float64"
      ]
     },
     "execution_count": 27,
     "metadata": {},
     "output_type": "execute_result"
    }
   ],
   "source": [
    "file.loc[: , \"zocd\"]"
   ]
  },
  {
   "cell_type": "code",
   "execution_count": 28,
   "id": "7cd4b851",
   "metadata": {},
   "outputs": [],
   "source": [
    "file.loc[\"Av\"] = file.loc[: ,\"Avcg\"] - file.loc[: , \"zocd\"]\n"
   ]
  },
  {
   "cell_type": "code",
   "execution_count": 29,
   "id": "e63cbdaa",
   "metadata": {},
   "outputs": [
    {
     "data": {
      "text/plain": [
       "0     100.5328\n",
       "1      99.1458\n",
       "2     100.5686\n",
       "3     100.5666\n",
       "4      99.1493\n",
       "5     100.5734\n",
       "Av         NaN\n",
       "dtype: float64"
      ]
     },
     "execution_count": 29,
     "metadata": {},
     "output_type": "execute_result"
    }
   ],
   "source": [
    "c = file.loc[: ,\"Avcg\"] - file.loc[: , \"zocd\"]\n",
    "c"
   ]
  },
  {
   "cell_type": "code",
   "execution_count": 30,
   "id": "e38225d4",
   "metadata": {},
   "outputs": [
    {
     "data": {
      "text/html": [
       "<div>\n",
       "<style scoped>\n",
       "    .dataframe tbody tr th:only-of-type {\n",
       "        vertical-align: middle;\n",
       "    }\n",
       "\n",
       "    .dataframe tbody tr th {\n",
       "        vertical-align: top;\n",
       "    }\n",
       "\n",
       "    .dataframe thead th {\n",
       "        text-align: right;\n",
       "    }\n",
       "</style>\n",
       "<table border=\"1\" class=\"dataframe\">\n",
       "  <thead>\n",
       "    <tr style=\"text-align: right;\">\n",
       "      <th></th>\n",
       "      <th>station</th>\n",
       "      <th>serie</th>\n",
       "      <th>point_visé</th>\n",
       "      <th>cg</th>\n",
       "      <th>rcg</th>\n",
       "      <th>cd</th>\n",
       "      <th>rcd</th>\n",
       "      <th>moyenne</th>\n",
       "      <th>distancecg</th>\n",
       "      <th>distancecd</th>\n",
       "      <th>distancemoy</th>\n",
       "      <th>Avcg</th>\n",
       "      <th>Avcd</th>\n",
       "      <th>zocd</th>\n",
       "      <th>Av</th>\n",
       "    </tr>\n",
       "  </thead>\n",
       "  <tbody>\n",
       "    <tr>\n",
       "      <th>0</th>\n",
       "      <td>NaN</td>\n",
       "      <td>NaN</td>\n",
       "      <td>topo12</td>\n",
       "      <td>0.0000</td>\n",
       "      <td>0.0000</td>\n",
       "      <td>200.0000</td>\n",
       "      <td>0.0000</td>\n",
       "      <td>0.00000</td>\n",
       "      <td>116.6046</td>\n",
       "      <td>116.5988</td>\n",
       "      <td>116.6017</td>\n",
       "      <td>100.5440</td>\n",
       "      <td>299.4784</td>\n",
       "      <td>0.0112</td>\n",
       "      <td>100.5328</td>\n",
       "    </tr>\n",
       "    <tr>\n",
       "      <th>1</th>\n",
       "      <td>M1</td>\n",
       "      <td>1.0</td>\n",
       "      <td>topo3</td>\n",
       "      <td>151.4514</td>\n",
       "      <td>151.4504</td>\n",
       "      <td>351.4588</td>\n",
       "      <td>151.4557</td>\n",
       "      <td>151.45305</td>\n",
       "      <td>93.7784</td>\n",
       "      <td>93.7650</td>\n",
       "      <td>93.7717</td>\n",
       "      <td>99.1892</td>\n",
       "      <td>300.8976</td>\n",
       "      <td>0.0434</td>\n",
       "      <td>99.1458</td>\n",
       "    </tr>\n",
       "    <tr>\n",
       "      <th>2</th>\n",
       "      <td>NaN</td>\n",
       "      <td>NaN</td>\n",
       "      <td>topo12</td>\n",
       "      <td>0.0020</td>\n",
       "      <td>0.0000</td>\n",
       "      <td>200.0062</td>\n",
       "      <td>0.0000</td>\n",
       "      <td>0.00000</td>\n",
       "      <td>116.6098</td>\n",
       "      <td>116.6076</td>\n",
       "      <td>116.6087</td>\n",
       "      <td>100.6144</td>\n",
       "      <td>299.4772</td>\n",
       "      <td>0.0458</td>\n",
       "      <td>100.5686</td>\n",
       "    </tr>\n",
       "    <tr>\n",
       "      <th>3</th>\n",
       "      <td>NaN</td>\n",
       "      <td>NaN</td>\n",
       "      <td>topo12</td>\n",
       "      <td>50.0000</td>\n",
       "      <td>0.0000</td>\n",
       "      <td>250.0000</td>\n",
       "      <td>0.0000</td>\n",
       "      <td>0.00000</td>\n",
       "      <td>116.6078</td>\n",
       "      <td>116.6078</td>\n",
       "      <td>116.6078</td>\n",
       "      <td>100.6104</td>\n",
       "      <td>299.4772</td>\n",
       "      <td>0.0438</td>\n",
       "      <td>100.5666</td>\n",
       "    </tr>\n",
       "    <tr>\n",
       "      <th>4</th>\n",
       "      <td>M1</td>\n",
       "      <td>2.0</td>\n",
       "      <td>topo3</td>\n",
       "      <td>201.4480</td>\n",
       "      <td>151.4475</td>\n",
       "      <td>1.4454</td>\n",
       "      <td>151.4446</td>\n",
       "      <td>151.44605</td>\n",
       "      <td>93.7824</td>\n",
       "      <td>93.7706</td>\n",
       "      <td>93.7765</td>\n",
       "      <td>99.1926</td>\n",
       "      <td>300.8940</td>\n",
       "      <td>0.0433</td>\n",
       "      <td>99.1493</td>\n",
       "    </tr>\n",
       "    <tr>\n",
       "      <th>5</th>\n",
       "      <td>NaN</td>\n",
       "      <td>NaN</td>\n",
       "      <td>topo12</td>\n",
       "      <td>50.0010</td>\n",
       "      <td>0.0000</td>\n",
       "      <td>250.0016</td>\n",
       "      <td>0.0000</td>\n",
       "      <td>0.00000</td>\n",
       "      <td>116.6404</td>\n",
       "      <td>116.6032</td>\n",
       "      <td>116.6218</td>\n",
       "      <td>100.6164</td>\n",
       "      <td>299.4696</td>\n",
       "      <td>0.0430</td>\n",
       "      <td>100.5734</td>\n",
       "    </tr>\n",
       "  </tbody>\n",
       "</table>\n",
       "</div>"
      ],
      "text/plain": [
       "  station  serie point_visé        cg       rcg        cd       rcd  \\\n",
       "0     NaN    NaN     topo12    0.0000    0.0000  200.0000    0.0000   \n",
       "1     M1     1.0      topo3  151.4514  151.4504  351.4588  151.4557   \n",
       "2     NaN    NaN     topo12    0.0020    0.0000  200.0062    0.0000   \n",
       "3     NaN    NaN     topo12   50.0000    0.0000  250.0000    0.0000   \n",
       "4      M1    2.0      topo3  201.4480  151.4475    1.4454  151.4446   \n",
       "5     NaN    NaN     topo12   50.0010    0.0000  250.0016    0.0000   \n",
       "\n",
       "     moyenne  distancecg  distancecd  distancemoy      Avcg      Avcd    zocd  \\\n",
       "0    0.00000    116.6046    116.5988     116.6017  100.5440  299.4784  0.0112   \n",
       "1  151.45305     93.7784     93.7650      93.7717   99.1892  300.8976  0.0434   \n",
       "2    0.00000    116.6098    116.6076     116.6087  100.6144  299.4772  0.0458   \n",
       "3    0.00000    116.6078    116.6078     116.6078  100.6104  299.4772  0.0438   \n",
       "4  151.44605     93.7824     93.7706      93.7765   99.1926  300.8940  0.0433   \n",
       "5    0.00000    116.6404    116.6032     116.6218  100.6164  299.4696  0.0430   \n",
       "\n",
       "         Av  \n",
       "0  100.5328  \n",
       "1   99.1458  \n",
       "2  100.5686  \n",
       "3  100.5666  \n",
       "4   99.1493  \n",
       "5  100.5734  "
      ]
     },
     "execution_count": 30,
     "metadata": {},
     "output_type": "execute_result"
    }
   ],
   "source": [
    "file[\"Av\"] = c\n",
    "file.drop(\"Av\")"
   ]
  },
  {
   "cell_type": "code",
   "execution_count": 30,
   "id": "19d707f5",
   "metadata": {},
   "outputs": [],
   "source": [
    "file.to_excel(r\"C:\\Users\\Walid\\Downloads\\station_libre.xlsx\")\n"
   ]
  },
  {
   "cell_type": "code",
   "execution_count": 31,
   "id": "858562c8",
   "metadata": {},
   "outputs": [
    {
     "data": {
      "text/plain": [
       "array([100.5604,  99.1476])"
      ]
     },
     "execution_count": 31,
     "metadata": {},
     "output_type": "execute_result"
    }
   ],
   "source": [
    "#determination des angles finales  on suit la meme logique dans les distances \n",
    "Averticale = file[\"Av\"]\n",
    "p = len(file.rcg)\n",
    "somme3 = 0 \n",
    "s = 0 \n",
    "c1 = 0 \n",
    "for i in range(1 , p-1 , 3) : \n",
    "    somme3 = somme3 + file.Av[i]\n",
    "    c1 = c1 + 1\n",
    "for k in range(0 , p-1) : \n",
    "    s = s + file.Av[k]\n",
    "AV= np.zeros(2)\n",
    "AV[0] = round((s - somme3) / (p - c1 - 1),4)\n",
    "AV[1] = round(somme3 / c1 , 4)\n",
    "AV"
   ]
  },
  {
   "cell_type": "code",
   "execution_count": 32,
   "id": "0686446a",
   "metadata": {},
   "outputs": [
    {
     "name": "stdout",
     "output_type": "stream",
     "text": [
      "50.24\n"
     ]
    }
   ],
   "source": [
    "hauteur_prisme  = 1.62\n",
    "hauteur_station =  1.37\n",
    "Ha = A.Z\n",
    "Hb = B.Z \n",
    "Hm1 = Ha - (hauteur_prisme - hauteur_station + d[0]*sing(100 - AV[0] )) \n",
    "Hm2 = Hb - (hauteur_prisme  - hauteur_station + d[1]*sing(100-AV[1]))\n",
    "print(round((Hm1 + Hm2)/2,2))\n"
   ]
  },
  {
   "cell_type": "markdown",
   "id": "12815d04",
   "metadata": {},
   "source": [
    "## determination des precision "
   ]
  },
  {
   "cell_type": "code",
   "execution_count": 2,
   "id": "effa2f92",
   "metadata": {},
   "outputs": [],
   "source": [
    "import torch \n",
    "def f(lambdaa, d1, d2, x1, y1, x2, y2):\n",
    "    lambdaa = grad2rad(lambdaa)\n",
    "    pi = np.pi\n",
    "    norm = torch.sqrt((x2 - x1)**2 + (y2 - y1)**2)\n",
    "    alpha = torch.asin((d2/norm) * torch.sin(lambdaa))\n",
    "    beta = torch.asin((d1/norm) * torch.sin(lambdaa))\n",
    "    xm1 = x1 + d1 * torch.sin(torch.atan((x2-x1)/(y2-y1)) + alpha) \n",
    "    ym1 = y1 + d1 * torch.cos(torch.atan((x2-x1)/(y2-y1)) + alpha) \n",
    "    xm2 = x2 + d2 * torch.sin(pi -torch.atan((x2-x1)/(y2-y1)) + beta) \n",
    "    ym2 = y2 + d2 * torch.cos(pi - torch.atan((x2-x1)/(y2-y1)) + beta) \n",
    "    \n",
    "    # Add a return statement for the computed values, modify as needed\n",
    "    return xm1, ym1, xm2, ym2"
   ]
  },
  {
   "cell_type": "code",
   "execution_count": 96,
   "id": "db5c132e",
   "metadata": {},
   "outputs": [],
   "source": [
    "from torch.autograd.functional import jacobian\n",
    "from torch import tensor\n",
    "lambdaa=tensor(151.4531)\n",
    "d1 = tensor(116.6017)\n",
    "d2 = tensor(93.7717)\n",
    "x1 = tensor(364229.335)\n",
    "y1 = tensor(376274.384)\n",
    "x2 = tensor(364417.630)\n",
    "y2 = tensor(376222.540)"
   ]
  },
  {
   "cell_type": "code",
   "execution_count": 97,
   "id": "76518138",
   "metadata": {},
   "outputs": [
    {
     "name": "stdout",
     "output_type": "stream",
     "text": [
      "((tensor(-0.3844), tensor(-0.8215), tensor(0.2493), tensor(1.2058), tensor(0.2965), tensor(-0.2058), tensor(-0.2965)), (tensor(-0.5537), tensor(0.5702), tensor(0.3592), tensor(0.2965), tensor(1.4271), tensor(-0.2965), tensor(-0.4271)), (tensor(-0.1088), tensor(0.0567), tensor(-0.9878), tensor(0.0128), tensor(-0.0811), tensor(0.9872), tensor(0.0811)), (tensor(-0.6895), tensor(0.3597), tensor(0.1558), tensor(0.0811), tensor(-0.5143), tensor(-0.0811), tensor(1.5143)))\n"
     ]
    }
   ],
   "source": [
    "j = jacobian(f,(lambdaa,d1,d2,x1,y1,x2,y2))\n",
    "print(j)"
   ]
  },
  {
   "cell_type": "code",
   "execution_count": 98,
   "id": "11c86b26",
   "metadata": {},
   "outputs": [],
   "source": [
    "def pprint(A):\n",
    "    if A.ndim==1:\n",
    "        print(A)\n",
    "    else:\n",
    "        w = max([len(str(s)) for s in A]) \n",
    "        print(u'\\u250c'+u'\\u2500'*w+u'\\u2510') \n",
    "        for AA in A:\n",
    "            print(' ', end='')\n",
    "            print('[', end='')\n",
    "            for i,AAA in enumerate(AA[:-1]):\n",
    "                w1=max([len(str(s)) for s in A[:,i]])\n",
    "                print(str(AAA)+' '*(w1-len(str(AAA))+1),end='')\n",
    "            w1=max([len(str(s)) for s in A[:,-1]])\n",
    "            print(str(AA[-1])+' '*(w1-len(str(AA[-1]))),end='')\n",
    "            print(']')\n",
    "        print(u'\\u2514'+u'\\u2500'*w+u'\\u2518')  \n",
    "#CREDIT TO https://stackoverflow.com/questions/53126305/pretty-printing-numpy-ndarrays-using-unicode-characters"
   ]
  },
  {
   "cell_type": "code",
   "execution_count": 99,
   "id": "6c2dd51f",
   "metadata": {},
   "outputs": [
    {
     "name": "stdout",
     "output_type": "stream",
     "text": [
      "┌──────────────────────────────────────────────────────────────────────────────────────┐\n",
      " [-0.38437867164611816 -0.8214811682701111 0.24930725991725922 1.2058007717132568   0.29647645354270935  -0.20580072700977325 -0.29647645354270935]\n",
      " [-0.5537357330322266  0.5702356100082397  0.3591519594192505  0.29647645354270935  1.427103877067566    -0.29647645354270935 -0.4271038770675659 ]\n",
      " [-0.10876264423131943 0.05673125013709068 -0.987787127494812  0.012795994058251381 -0.08112288266420364 0.9872040152549744   0.08112288266420364 ]\n",
      " [-0.6895235180854797  0.3596595525741577  0.15580953657627106 0.08112284541130066  -0.5142954587936401  -0.08112284541130066 1.5142954587936401  ]\n",
      "└──────────────────────────────────────────────────────────────────────────────────────┘\n"
     ]
    }
   ],
   "source": [
    "J = np.zeros((len(j),len(j[0])))\n",
    "for i in range(len(j)):\n",
    "    for k in range(len(j[0])):\n",
    "        J[i][k] = float(j[i][k])\n",
    "pprint(J)"
   ]
  },
  {
   "cell_type": "code",
   "execution_count": 100,
   "id": "04874cd4",
   "metadata": {},
   "outputs": [
    {
     "name": "stdout",
     "output_type": "stream",
     "text": [
      "┌───────────────────────────────────────────────────────────────────────────────────────────────────────────┐\n",
      " [5.479261370662637e-13 0.0     0.0     0.0                   0.0                   0.0                   0.0                  ]\n",
      " [0.0                   1.6e-07 0.0     0.0                   0.0                   0.0                   0.0                  ]\n",
      " [0.0                   0.0     1.6e-07 0.0                   0.0                   0.0                   0.0                  ]\n",
      " [0.0                   0.0     0.0     0.0025000000000000005 0.0                   0.0                   0.0                  ]\n",
      " [0.0                   0.0     0.0     0.0                   0.0025000000000000005 0.0                   0.0                  ]\n",
      " [0.0                   0.0     0.0     0.0                   0.0                   0.0025000000000000005 0.0                  ]\n",
      " [0.0                   0.0     0.0     0.0                   0.0                   0.0                   0.0025000000000000005]\n",
      "└───────────────────────────────────────────────────────────────────────────────────────────────────────────┘\n"
     ]
    }
   ],
   "source": [
    "# matrice de variance covariance des observation \n",
    "sigma = [(grad2rad(30*(10**(-4)))*np.pi/200)**2,0.0004**2,0.0004**2,0.05**2,0.05**2,0.05**2,0.05**2]\n",
    "S = np.zeros((len(sigma), len(sigma)))\n",
    "for i in range(len(sigma )) : \n",
    "    S[i][i] = sigma[i]\n",
    "pprint(S)"
   ]
  },
  {
   "cell_type": "code",
   "execution_count": 70,
   "id": "074a2477",
   "metadata": {},
   "outputs": [
    {
     "data": {
      "text/plain": [
       "array([[-0.38437867, -0.55373573, -0.10876264, -0.68952352],\n",
       "       [-0.82148117,  0.57023561,  0.05673125,  0.35965955],\n",
       "       [ 0.24930726,  0.35915196, -0.98778713,  0.15580954],\n",
       "       [ 1.20580077,  0.29647645,  0.01279599,  0.08112285],\n",
       "       [ 0.29647645,  1.42710388, -0.08112288, -0.51429546],\n",
       "       [-0.20580073, -0.29647645,  0.98720402, -0.08112285],\n",
       "       [-0.29647645, -0.42710388,  0.08112288,  1.51429546]])"
      ]
     },
     "execution_count": 70,
     "metadata": {},
     "output_type": "execute_result"
    }
   ],
   "source": [
    "J.T"
   ]
  },
  {
   "cell_type": "code",
   "execution_count": 101,
   "id": "32c8a845",
   "metadata": {},
   "outputs": [
    {
     "data": {
      "text/plain": [
       "array([[ 2.5568384 ,  0.80218113, -0.48690005, -0.47848728],\n",
       "       [ 0.80218113,  3.15562182, -0.70149745, -0.68974868],\n",
       "       [-0.48690005, -0.70149745,  1.97866851,  0.02701007],\n",
       "       [-0.47848728, -0.68974868,  0.02701007,  3.19982667]])"
      ]
     },
     "execution_count": 101,
     "metadata": {},
     "output_type": "execute_result"
    }
   ],
   "source": [
    "q = J@np.eye(7)@J.T\n",
    "q"
   ]
  },
  {
   "cell_type": "code",
   "execution_count": 102,
   "id": "107b3f73",
   "metadata": {},
   "outputs": [
    {
     "name": "stdout",
     "output_type": "stream",
     "text": [
      "┌─────────────────────────────────────────────────┐\n",
      " [0.004180382956029506   0.0024205282394226344  -0.0005896466926696481 -0.0012173318342408026]\n",
      " [0.0024205282394226344  0.005987172097467822   -0.0010983208677018653 -0.0033314894259471074]\n",
      " [-0.0005896466926696481 -0.0010983208677018653 0.0024699000041589767  0.00021377461888119918]\n",
      " [-0.0012173318342408028 -0.003331489425947108  0.00021377461888119918 0.006426905550202514  ]\n",
      "└─────────────────────────────────────────────────┘\n"
     ]
    }
   ],
   "source": [
    "a = J@S@J.T\n",
    "pprint(a)"
   ]
  },
  {
   "cell_type": "code",
   "execution_count": 103,
   "id": "15ed14cd",
   "metadata": {},
   "outputs": [
    {
     "name": "stdout",
     "output_type": "stream",
     "text": [
      "0.06465588106297451\n",
      "0.07737681886371281\n",
      "0.04969808853627045\n",
      "0.08016798332378403\n"
     ]
    }
   ],
   "source": [
    "for i in range(len(a)) : \n",
    "    print(a[i][i]**(1/2))\n",
    "    "
   ]
  }
 ],
 "metadata": {
  "kernelspec": {
   "display_name": "Python 3 (ipykernel)",
   "language": "python",
   "name": "python3"
  },
  "language_info": {
   "codemirror_mode": {
    "name": "ipython",
    "version": 3
   },
   "file_extension": ".py",
   "mimetype": "text/x-python",
   "name": "python",
   "nbconvert_exporter": "python",
   "pygments_lexer": "ipython3",
   "version": "3.11.7"
  }
 },
 "nbformat": 4,
 "nbformat_minor": 5
}
